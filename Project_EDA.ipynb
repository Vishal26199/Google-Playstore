{
 "cells": [
  {
   "cell_type": "markdown",
   "metadata": {},
   "source": [
    "# Loading Libraries"
   ]
  },
  {
   "cell_type": "code",
   "execution_count": 1,
   "metadata": {
    "slideshow": {
     "slide_type": "-"
    }
   },
   "outputs": [],
   "source": [
    "import numpy as np\n",
    "import pandas as pd\n",
    "import matplotlib.pyplot as plt\n",
    "import seaborn as sns"
   ]
  },
  {
   "cell_type": "markdown",
   "metadata": {},
   "source": [
    "# Importing Data"
   ]
  },
  {
   "cell_type": "code",
   "execution_count": 2,
   "metadata": {},
   "outputs": [],
   "source": [
    "gplst = pd.read_csv('Google-Playstore.csv')"
   ]
  },
  {
   "cell_type": "markdown",
   "metadata": {},
   "source": [
    "# Uderstanding Data"
   ]
  },
  {
   "cell_type": "code",
   "execution_count": 3,
   "metadata": {},
   "outputs": [
    {
     "data": {
      "text/plain": [
       "pandas.core.frame.DataFrame"
      ]
     },
     "execution_count": 3,
     "metadata": {},
     "output_type": "execute_result"
    }
   ],
   "source": [
    "type(gplst)"
   ]
  },
  {
   "cell_type": "code",
   "execution_count": 4,
   "metadata": {},
   "outputs": [
    {
     "data": {
      "text/plain": [
       "(1118136, 23)"
      ]
     },
     "execution_count": 4,
     "metadata": {},
     "output_type": "execute_result"
    }
   ],
   "source": [
    "gplst.shape"
   ]
  },
  {
   "cell_type": "code",
   "execution_count": 5,
   "metadata": {},
   "outputs": [
    {
     "data": {
      "text/html": [
       "<div>\n",
       "<style scoped>\n",
       "    .dataframe tbody tr th:only-of-type {\n",
       "        vertical-align: middle;\n",
       "    }\n",
       "\n",
       "    .dataframe tbody tr th {\n",
       "        vertical-align: top;\n",
       "    }\n",
       "\n",
       "    .dataframe thead th {\n",
       "        text-align: right;\n",
       "    }\n",
       "</style>\n",
       "<table border=\"1\" class=\"dataframe\">\n",
       "  <thead>\n",
       "    <tr style=\"text-align: right;\">\n",
       "      <th></th>\n",
       "      <th>App Name</th>\n",
       "      <th>App Id</th>\n",
       "      <th>Category</th>\n",
       "      <th>Rating</th>\n",
       "      <th>Rating Count</th>\n",
       "      <th>Installs</th>\n",
       "      <th>Minimum Installs</th>\n",
       "      <th>Maximum Installs</th>\n",
       "      <th>Free</th>\n",
       "      <th>Price</th>\n",
       "      <th>...</th>\n",
       "      <th>Developer Id</th>\n",
       "      <th>Developer Website</th>\n",
       "      <th>Developer Email</th>\n",
       "      <th>Released</th>\n",
       "      <th>Last Updated</th>\n",
       "      <th>Content Rating</th>\n",
       "      <th>Privacy Policy</th>\n",
       "      <th>Ad Supported</th>\n",
       "      <th>In App Purchases</th>\n",
       "      <th>Editors Choice</th>\n",
       "    </tr>\n",
       "  </thead>\n",
       "  <tbody>\n",
       "    <tr>\n",
       "      <th>0</th>\n",
       "      <td>HTTrack Website Copier</td>\n",
       "      <td>com.httrack.android</td>\n",
       "      <td>Communication</td>\n",
       "      <td>3.6</td>\n",
       "      <td>2848.0</td>\n",
       "      <td>100,000+</td>\n",
       "      <td>100000.0</td>\n",
       "      <td>351560</td>\n",
       "      <td>True</td>\n",
       "      <td>0.0</td>\n",
       "      <td>...</td>\n",
       "      <td>Xavier Roche</td>\n",
       "      <td>http://www.httrack.com/</td>\n",
       "      <td>roche+android@httrack.com</td>\n",
       "      <td>Aug 12, 2013</td>\n",
       "      <td>May 20, 2017</td>\n",
       "      <td>Everyone</td>\n",
       "      <td>http://android.httrack.com/privacy-policy.html</td>\n",
       "      <td>False</td>\n",
       "      <td>False</td>\n",
       "      <td>False</td>\n",
       "    </tr>\n",
       "    <tr>\n",
       "      <th>1</th>\n",
       "      <td>World War 2: Offline Strategy</td>\n",
       "      <td>com.skizze.wwii</td>\n",
       "      <td>Strategy</td>\n",
       "      <td>4.3</td>\n",
       "      <td>17297.0</td>\n",
       "      <td>1,000,000+</td>\n",
       "      <td>1000000.0</td>\n",
       "      <td>2161778</td>\n",
       "      <td>True</td>\n",
       "      <td>0.0</td>\n",
       "      <td>...</td>\n",
       "      <td>Skizze Games</td>\n",
       "      <td>http://stereo7.com/</td>\n",
       "      <td>Skizze.Games@gmail.com</td>\n",
       "      <td>Jul 19, 2018</td>\n",
       "      <td>Nov 26, 2020</td>\n",
       "      <td>Everyone 10+</td>\n",
       "      <td>https://www.iubenda.com/privacy-policy/8032781</td>\n",
       "      <td>True</td>\n",
       "      <td>True</td>\n",
       "      <td>False</td>\n",
       "    </tr>\n",
       "    <tr>\n",
       "      <th>2</th>\n",
       "      <td>WPSApp</td>\n",
       "      <td>com.themausoft.wpsapp</td>\n",
       "      <td>Tools</td>\n",
       "      <td>4.2</td>\n",
       "      <td>488639.0</td>\n",
       "      <td>50,000,000+</td>\n",
       "      <td>50000000.0</td>\n",
       "      <td>79304739</td>\n",
       "      <td>True</td>\n",
       "      <td>0.0</td>\n",
       "      <td>...</td>\n",
       "      <td>TheMauSoft</td>\n",
       "      <td>http://www.themausoft.com</td>\n",
       "      <td>wpsapp.app@gmail.com</td>\n",
       "      <td>Mar 7, 2016</td>\n",
       "      <td>Oct 21, 2020</td>\n",
       "      <td>Everyone</td>\n",
       "      <td>https://sites.google.com/view/wpsapppolicy/main</td>\n",
       "      <td>True</td>\n",
       "      <td>False</td>\n",
       "      <td>False</td>\n",
       "    </tr>\n",
       "    <tr>\n",
       "      <th>3</th>\n",
       "      <td>OfficeSuite - Office, PDF, Word, Excel, PowerP...</td>\n",
       "      <td>com.mobisystems.office</td>\n",
       "      <td>Business</td>\n",
       "      <td>4.2</td>\n",
       "      <td>1224420.0</td>\n",
       "      <td>100,000,000+</td>\n",
       "      <td>100000000.0</td>\n",
       "      <td>163660067</td>\n",
       "      <td>True</td>\n",
       "      <td>0.0</td>\n",
       "      <td>...</td>\n",
       "      <td>MobiSystems</td>\n",
       "      <td>http://www.mobisystems.com</td>\n",
       "      <td>support-officesuite-android@mobisystems.com</td>\n",
       "      <td>Dec 22, 2011</td>\n",
       "      <td>Nov 23, 2020</td>\n",
       "      <td>Everyone</td>\n",
       "      <td>http://www.mobisystems.com/mobile/privacy-poli...</td>\n",
       "      <td>True</td>\n",
       "      <td>True</td>\n",
       "      <td>False</td>\n",
       "    </tr>\n",
       "    <tr>\n",
       "      <th>4</th>\n",
       "      <td>Loud Player Free</td>\n",
       "      <td>com.arthelion.loudplayer</td>\n",
       "      <td>Music &amp; Audio</td>\n",
       "      <td>4.2</td>\n",
       "      <td>665.0</td>\n",
       "      <td>50,000+</td>\n",
       "      <td>50000.0</td>\n",
       "      <td>73463</td>\n",
       "      <td>True</td>\n",
       "      <td>0.0</td>\n",
       "      <td>...</td>\n",
       "      <td>Arthelion92</td>\n",
       "      <td>http://www.arthelion.com</td>\n",
       "      <td>arthelion92@gmail.com</td>\n",
       "      <td>Sep 24, 2016</td>\n",
       "      <td>Nov 22, 2020</td>\n",
       "      <td>Everyone</td>\n",
       "      <td>http://www.arthelion.com/index.php/fr/android-...</td>\n",
       "      <td>False</td>\n",
       "      <td>False</td>\n",
       "      <td>False</td>\n",
       "    </tr>\n",
       "    <tr>\n",
       "      <th>5</th>\n",
       "      <td>eCharge+</td>\n",
       "      <td>com.innogy.echarge</td>\n",
       "      <td>Maps &amp; Navigation</td>\n",
       "      <td>3.5</td>\n",
       "      <td>377.0</td>\n",
       "      <td>10,000+</td>\n",
       "      <td>10000.0</td>\n",
       "      <td>38029</td>\n",
       "      <td>True</td>\n",
       "      <td>0.0</td>\n",
       "      <td>...</td>\n",
       "      <td>innogy eMobility Solutions</td>\n",
       "      <td>http://www.innogy-emobility.com</td>\n",
       "      <td>echarge@innogy.com</td>\n",
       "      <td>Feb 4, 2019</td>\n",
       "      <td>Nov 06, 2020</td>\n",
       "      <td>Everyone</td>\n",
       "      <td>https://www.innogy.com/web/cms/en/3068482/home...</td>\n",
       "      <td>False</td>\n",
       "      <td>False</td>\n",
       "      <td>False</td>\n",
       "    </tr>\n",
       "    <tr>\n",
       "      <th>6</th>\n",
       "      <td>Jobonji: hire local pros handyman for odd jobs...</td>\n",
       "      <td>com.pack.jobonji</td>\n",
       "      <td>Lifestyle</td>\n",
       "      <td>4.4</td>\n",
       "      <td>3346.0</td>\n",
       "      <td>100,000+</td>\n",
       "      <td>100000.0</td>\n",
       "      <td>224897</td>\n",
       "      <td>True</td>\n",
       "      <td>0.0</td>\n",
       "      <td>...</td>\n",
       "      <td>Jobonji, Inc</td>\n",
       "      <td>https://www.jobonji.com/</td>\n",
       "      <td>support@jobonji.com</td>\n",
       "      <td>Jan 10, 2018</td>\n",
       "      <td>Sep 30, 2019</td>\n",
       "      <td>Everyone</td>\n",
       "      <td>https://www.jobonji.com/privacy.html</td>\n",
       "      <td>False</td>\n",
       "      <td>True</td>\n",
       "      <td>False</td>\n",
       "    </tr>\n",
       "    <tr>\n",
       "      <th>7</th>\n",
       "      <td>Little Panda’s Dream Town</td>\n",
       "      <td>com.sinyee.babybus.village</td>\n",
       "      <td>Educational</td>\n",
       "      <td>4.0</td>\n",
       "      <td>44700.0</td>\n",
       "      <td>10,000,000+</td>\n",
       "      <td>10000000.0</td>\n",
       "      <td>29969311</td>\n",
       "      <td>True</td>\n",
       "      <td>0.0</td>\n",
       "      <td>...</td>\n",
       "      <td>BabyBus</td>\n",
       "      <td>http://www.babybus.com</td>\n",
       "      <td>ser@babybus.com</td>\n",
       "      <td>Aug 16, 2018</td>\n",
       "      <td>Sep 29, 2020</td>\n",
       "      <td>Everyone</td>\n",
       "      <td>http://en.babybus.com/index/privacyPolicy.shtml</td>\n",
       "      <td>True</td>\n",
       "      <td>True</td>\n",
       "      <td>False</td>\n",
       "    </tr>\n",
       "    <tr>\n",
       "      <th>8</th>\n",
       "      <td>Baby Panda: Dental Care</td>\n",
       "      <td>com.sinyee.babybus.dentistII</td>\n",
       "      <td>Educational</td>\n",
       "      <td>4.1</td>\n",
       "      <td>10990.0</td>\n",
       "      <td>10,000,000+</td>\n",
       "      <td>10000000.0</td>\n",
       "      <td>12520805</td>\n",
       "      <td>True</td>\n",
       "      <td>0.0</td>\n",
       "      <td>...</td>\n",
       "      <td>BabyBus</td>\n",
       "      <td>https://www.babybus.com</td>\n",
       "      <td>sinyeeandroid@gmail.com</td>\n",
       "      <td>Apr 27, 2020</td>\n",
       "      <td>Sep 29, 2020</td>\n",
       "      <td>Everyone</td>\n",
       "      <td>http://en.babybus.com/index/privacyPolicy.shtml</td>\n",
       "      <td>True</td>\n",
       "      <td>True</td>\n",
       "      <td>False</td>\n",
       "    </tr>\n",
       "    <tr>\n",
       "      <th>9</th>\n",
       "      <td>Excel Reader</td>\n",
       "      <td>com.xcelfilereaderMS</td>\n",
       "      <td>Tools</td>\n",
       "      <td>3.3</td>\n",
       "      <td>1141.0</td>\n",
       "      <td>100,000+</td>\n",
       "      <td>100000.0</td>\n",
       "      <td>193274</td>\n",
       "      <td>True</td>\n",
       "      <td>0.0</td>\n",
       "      <td>...</td>\n",
       "      <td>SphereLix Apps</td>\n",
       "      <td>NaN</td>\n",
       "      <td>johnmarting6162@gmail.com</td>\n",
       "      <td>Jan 13, 2020</td>\n",
       "      <td>Jun 25, 2020</td>\n",
       "      <td>Everyone</td>\n",
       "      <td>https://docs.google.com/document/d/e/2PACX-1vS...</td>\n",
       "      <td>True</td>\n",
       "      <td>False</td>\n",
       "      <td>False</td>\n",
       "    </tr>\n",
       "  </tbody>\n",
       "</table>\n",
       "<p>10 rows × 23 columns</p>\n",
       "</div>"
      ],
      "text/plain": [
       "                                            App Name  \\\n",
       "0                             HTTrack Website Copier   \n",
       "1                      World War 2: Offline Strategy   \n",
       "2                                             WPSApp   \n",
       "3  OfficeSuite - Office, PDF, Word, Excel, PowerP...   \n",
       "4                                   Loud Player Free   \n",
       "5                                           eCharge+   \n",
       "6  Jobonji: hire local pros handyman for odd jobs...   \n",
       "7                          Little Panda’s Dream Town   \n",
       "8                            Baby Panda: Dental Care   \n",
       "9                                       Excel Reader   \n",
       "\n",
       "                         App Id           Category  Rating  Rating Count  \\\n",
       "0           com.httrack.android      Communication     3.6        2848.0   \n",
       "1               com.skizze.wwii           Strategy     4.3       17297.0   \n",
       "2         com.themausoft.wpsapp              Tools     4.2      488639.0   \n",
       "3        com.mobisystems.office           Business     4.2     1224420.0   \n",
       "4      com.arthelion.loudplayer      Music & Audio     4.2         665.0   \n",
       "5            com.innogy.echarge  Maps & Navigation     3.5         377.0   \n",
       "6              com.pack.jobonji          Lifestyle     4.4        3346.0   \n",
       "7    com.sinyee.babybus.village        Educational     4.0       44700.0   \n",
       "8  com.sinyee.babybus.dentistII        Educational     4.1       10990.0   \n",
       "9          com.xcelfilereaderMS              Tools     3.3        1141.0   \n",
       "\n",
       "       Installs  Minimum Installs  Maximum Installs  Free  Price  ...  \\\n",
       "0      100,000+          100000.0            351560  True    0.0  ...   \n",
       "1    1,000,000+         1000000.0           2161778  True    0.0  ...   \n",
       "2   50,000,000+        50000000.0          79304739  True    0.0  ...   \n",
       "3  100,000,000+       100000000.0         163660067  True    0.0  ...   \n",
       "4       50,000+           50000.0             73463  True    0.0  ...   \n",
       "5       10,000+           10000.0             38029  True    0.0  ...   \n",
       "6      100,000+          100000.0            224897  True    0.0  ...   \n",
       "7   10,000,000+        10000000.0          29969311  True    0.0  ...   \n",
       "8   10,000,000+        10000000.0          12520805  True    0.0  ...   \n",
       "9      100,000+          100000.0            193274  True    0.0  ...   \n",
       "\n",
       "                 Developer Id                Developer Website  \\\n",
       "0                Xavier Roche          http://www.httrack.com/   \n",
       "1                Skizze Games              http://stereo7.com/   \n",
       "2                  TheMauSoft        http://www.themausoft.com   \n",
       "3                 MobiSystems       http://www.mobisystems.com   \n",
       "4                 Arthelion92         http://www.arthelion.com   \n",
       "5  innogy eMobility Solutions  http://www.innogy-emobility.com   \n",
       "6                Jobonji, Inc         https://www.jobonji.com/   \n",
       "7                     BabyBus           http://www.babybus.com   \n",
       "8                     BabyBus          https://www.babybus.com   \n",
       "9              SphereLix Apps                              NaN   \n",
       "\n",
       "                               Developer Email      Released  Last Updated  \\\n",
       "0                    roche+android@httrack.com  Aug 12, 2013  May 20, 2017   \n",
       "1                       Skizze.Games@gmail.com  Jul 19, 2018  Nov 26, 2020   \n",
       "2                         wpsapp.app@gmail.com   Mar 7, 2016  Oct 21, 2020   \n",
       "3  support-officesuite-android@mobisystems.com  Dec 22, 2011  Nov 23, 2020   \n",
       "4                        arthelion92@gmail.com  Sep 24, 2016  Nov 22, 2020   \n",
       "5                           echarge@innogy.com   Feb 4, 2019  Nov 06, 2020   \n",
       "6                          support@jobonji.com  Jan 10, 2018  Sep 30, 2019   \n",
       "7                              ser@babybus.com  Aug 16, 2018  Sep 29, 2020   \n",
       "8                      sinyeeandroid@gmail.com  Apr 27, 2020  Sep 29, 2020   \n",
       "9                    johnmarting6162@gmail.com  Jan 13, 2020  Jun 25, 2020   \n",
       "\n",
       "  Content Rating                                     Privacy Policy  \\\n",
       "0       Everyone     http://android.httrack.com/privacy-policy.html   \n",
       "1   Everyone 10+     https://www.iubenda.com/privacy-policy/8032781   \n",
       "2       Everyone    https://sites.google.com/view/wpsapppolicy/main   \n",
       "3       Everyone  http://www.mobisystems.com/mobile/privacy-poli...   \n",
       "4       Everyone  http://www.arthelion.com/index.php/fr/android-...   \n",
       "5       Everyone  https://www.innogy.com/web/cms/en/3068482/home...   \n",
       "6       Everyone               https://www.jobonji.com/privacy.html   \n",
       "7       Everyone    http://en.babybus.com/index/privacyPolicy.shtml   \n",
       "8       Everyone    http://en.babybus.com/index/privacyPolicy.shtml   \n",
       "9       Everyone  https://docs.google.com/document/d/e/2PACX-1vS...   \n",
       "\n",
       "  Ad Supported In App Purchases Editors Choice  \n",
       "0        False            False          False  \n",
       "1         True             True          False  \n",
       "2         True            False          False  \n",
       "3         True             True          False  \n",
       "4        False            False          False  \n",
       "5        False            False          False  \n",
       "6        False             True          False  \n",
       "7         True             True          False  \n",
       "8         True             True          False  \n",
       "9         True            False          False  \n",
       "\n",
       "[10 rows x 23 columns]"
      ]
     },
     "execution_count": 5,
     "metadata": {},
     "output_type": "execute_result"
    }
   ],
   "source": [
    "#First 10 Data Entries\n",
    "gplst.head(10)"
   ]
  },
  {
   "cell_type": "code",
   "execution_count": 6,
   "metadata": {},
   "outputs": [
    {
     "data": {
      "text/html": [
       "<div>\n",
       "<style scoped>\n",
       "    .dataframe tbody tr th:only-of-type {\n",
       "        vertical-align: middle;\n",
       "    }\n",
       "\n",
       "    .dataframe tbody tr th {\n",
       "        vertical-align: top;\n",
       "    }\n",
       "\n",
       "    .dataframe thead th {\n",
       "        text-align: right;\n",
       "    }\n",
       "</style>\n",
       "<table border=\"1\" class=\"dataframe\">\n",
       "  <thead>\n",
       "    <tr style=\"text-align: right;\">\n",
       "      <th></th>\n",
       "      <th>App Name</th>\n",
       "      <th>App Id</th>\n",
       "      <th>Category</th>\n",
       "      <th>Rating</th>\n",
       "      <th>Rating Count</th>\n",
       "      <th>Installs</th>\n",
       "      <th>Minimum Installs</th>\n",
       "      <th>Maximum Installs</th>\n",
       "      <th>Free</th>\n",
       "      <th>Price</th>\n",
       "      <th>...</th>\n",
       "      <th>Developer Id</th>\n",
       "      <th>Developer Website</th>\n",
       "      <th>Developer Email</th>\n",
       "      <th>Released</th>\n",
       "      <th>Last Updated</th>\n",
       "      <th>Content Rating</th>\n",
       "      <th>Privacy Policy</th>\n",
       "      <th>Ad Supported</th>\n",
       "      <th>In App Purchases</th>\n",
       "      <th>Editors Choice</th>\n",
       "    </tr>\n",
       "  </thead>\n",
       "  <tbody>\n",
       "    <tr>\n",
       "      <th>1118126</th>\n",
       "      <td>HANWA</td>\n",
       "      <td>com.hanwa.app</td>\n",
       "      <td>Lifestyle</td>\n",
       "      <td>0.0</td>\n",
       "      <td>0.0</td>\n",
       "      <td>10+</td>\n",
       "      <td>10.0</td>\n",
       "      <td>46</td>\n",
       "      <td>True</td>\n",
       "      <td>0.0</td>\n",
       "      <td>...</td>\n",
       "      <td>Imaginnovate</td>\n",
       "      <td>http://www.nwahindutemple.org/</td>\n",
       "      <td>BOD@NWAHINDUTEMPLE.ORG</td>\n",
       "      <td>Apr 13, 2019</td>\n",
       "      <td>Mar 04, 2020</td>\n",
       "      <td>Everyone</td>\n",
       "      <td>http://tw.fieldenable.com/privacy</td>\n",
       "      <td>False</td>\n",
       "      <td>False</td>\n",
       "      <td>False</td>\n",
       "    </tr>\n",
       "    <tr>\n",
       "      <th>1118127</th>\n",
       "      <td>TGIF 2018</td>\n",
       "      <td>com.tgif2018.app</td>\n",
       "      <td>Education</td>\n",
       "      <td>0.0</td>\n",
       "      <td>0.0</td>\n",
       "      <td>50+</td>\n",
       "      <td>50.0</td>\n",
       "      <td>65</td>\n",
       "      <td>True</td>\n",
       "      <td>0.0</td>\n",
       "      <td>...</td>\n",
       "      <td>Imaginnovate</td>\n",
       "      <td>http://tgif.elixsys.com/</td>\n",
       "      <td>info@imaginnovate.com</td>\n",
       "      <td>Dec 5, 2017</td>\n",
       "      <td>Feb 13, 2018</td>\n",
       "      <td>Everyone</td>\n",
       "      <td>http://tgif.elixsys.com/_privacy_policy</td>\n",
       "      <td>False</td>\n",
       "      <td>False</td>\n",
       "      <td>False</td>\n",
       "    </tr>\n",
       "    <tr>\n",
       "      <th>1118128</th>\n",
       "      <td>Asset Management</td>\n",
       "      <td>com.fieldenable.assetmanagement</td>\n",
       "      <td>Business</td>\n",
       "      <td>NaN</td>\n",
       "      <td>NaN</td>\n",
       "      <td>100+</td>\n",
       "      <td>100.0</td>\n",
       "      <td>190</td>\n",
       "      <td>True</td>\n",
       "      <td>0.0</td>\n",
       "      <td>...</td>\n",
       "      <td>Imaginnovate</td>\n",
       "      <td>http://www.imaginnovate.com</td>\n",
       "      <td>FieldEnable@imaginnovate.com</td>\n",
       "      <td>NaN</td>\n",
       "      <td>Mar 09, 2020</td>\n",
       "      <td>Everyone</td>\n",
       "      <td>http://app.fieldenable.com/privacy</td>\n",
       "      <td>False</td>\n",
       "      <td>False</td>\n",
       "      <td>False</td>\n",
       "    </tr>\n",
       "    <tr>\n",
       "      <th>1118129</th>\n",
       "      <td>Campaign Blaster Yuge Edition</td>\n",
       "      <td>com.unifeyed.CampaignBlasterYuge</td>\n",
       "      <td>Casual</td>\n",
       "      <td>0.0</td>\n",
       "      <td>0.0</td>\n",
       "      <td>50+</td>\n",
       "      <td>50.0</td>\n",
       "      <td>60</td>\n",
       "      <td>True</td>\n",
       "      <td>0.0</td>\n",
       "      <td>...</td>\n",
       "      <td>UNIFEYED</td>\n",
       "      <td>http://www.unifeyed.com</td>\n",
       "      <td>development@unifeyed.com</td>\n",
       "      <td>May 2, 2016</td>\n",
       "      <td>May 03, 2016</td>\n",
       "      <td>Everyone</td>\n",
       "      <td>http://unifeyed.com/privacy/</td>\n",
       "      <td>True</td>\n",
       "      <td>True</td>\n",
       "      <td>False</td>\n",
       "    </tr>\n",
       "    <tr>\n",
       "      <th>1118130</th>\n",
       "      <td>Safer Job Sites</td>\n",
       "      <td>com.unifeyed.safety</td>\n",
       "      <td>Productivity</td>\n",
       "      <td>0.0</td>\n",
       "      <td>0.0</td>\n",
       "      <td>5+</td>\n",
       "      <td>5.0</td>\n",
       "      <td>5</td>\n",
       "      <td>True</td>\n",
       "      <td>0.0</td>\n",
       "      <td>...</td>\n",
       "      <td>UNIFEYED</td>\n",
       "      <td>https://unifeyed.com</td>\n",
       "      <td>development@unifeyed.com</td>\n",
       "      <td>Aug 21, 2019</td>\n",
       "      <td>Dec 05, 2019</td>\n",
       "      <td>Everyone</td>\n",
       "      <td>https://unifeyed.com/privacy</td>\n",
       "      <td>False</td>\n",
       "      <td>False</td>\n",
       "      <td>False</td>\n",
       "    </tr>\n",
       "    <tr>\n",
       "      <th>1118131</th>\n",
       "      <td>FleetEnable</td>\n",
       "      <td>com.fleetenable.app</td>\n",
       "      <td>Productivity</td>\n",
       "      <td>NaN</td>\n",
       "      <td>NaN</td>\n",
       "      <td>10+</td>\n",
       "      <td>10.0</td>\n",
       "      <td>10</td>\n",
       "      <td>True</td>\n",
       "      <td>0.0</td>\n",
       "      <td>...</td>\n",
       "      <td>Imaginnovate</td>\n",
       "      <td>http://fleetenable.com/</td>\n",
       "      <td>krishna@imaginnovate.com</td>\n",
       "      <td>NaN</td>\n",
       "      <td>Jun 30, 2020</td>\n",
       "      <td>Everyone</td>\n",
       "      <td>http://fleetenable.com/</td>\n",
       "      <td>False</td>\n",
       "      <td>False</td>\n",
       "      <td>False</td>\n",
       "    </tr>\n",
       "    <tr>\n",
       "      <th>1118132</th>\n",
       "      <td>AutoThink</td>\n",
       "      <td>com.fleetenable.autothink</td>\n",
       "      <td>Productivity</td>\n",
       "      <td>0.0</td>\n",
       "      <td>0.0</td>\n",
       "      <td>100+</td>\n",
       "      <td>100.0</td>\n",
       "      <td>127</td>\n",
       "      <td>True</td>\n",
       "      <td>0.0</td>\n",
       "      <td>...</td>\n",
       "      <td>Imaginnovate</td>\n",
       "      <td>http://www.imaginnovate.com</td>\n",
       "      <td>krishna@imaginnovate.com</td>\n",
       "      <td>Nov 26, 2019</td>\n",
       "      <td>Nov 13, 2020</td>\n",
       "      <td>Everyone</td>\n",
       "      <td>http://www.imaginnovate.com</td>\n",
       "      <td>False</td>\n",
       "      <td>False</td>\n",
       "      <td>False</td>\n",
       "    </tr>\n",
       "    <tr>\n",
       "      <th>1118133</th>\n",
       "      <td>FieldEnable</td>\n",
       "      <td>com.fieldenable.app.fieldenable</td>\n",
       "      <td>Business</td>\n",
       "      <td>0.0</td>\n",
       "      <td>0.0</td>\n",
       "      <td>100+</td>\n",
       "      <td>100.0</td>\n",
       "      <td>282</td>\n",
       "      <td>True</td>\n",
       "      <td>0.0</td>\n",
       "      <td>...</td>\n",
       "      <td>Imaginnovate</td>\n",
       "      <td>http://www.imaginnovate.com</td>\n",
       "      <td>FieldEnable@imaginnovate.com</td>\n",
       "      <td>Apr 30, 2018</td>\n",
       "      <td>Nov 30, 2020</td>\n",
       "      <td>Everyone</td>\n",
       "      <td>http://tw.fieldenable.com/privacy</td>\n",
       "      <td>False</td>\n",
       "      <td>False</td>\n",
       "      <td>False</td>\n",
       "    </tr>\n",
       "    <tr>\n",
       "      <th>1118134</th>\n",
       "      <td>Live Concert</td>\n",
       "      <td>com.varbin.liveconcert</td>\n",
       "      <td>Events</td>\n",
       "      <td>0.0</td>\n",
       "      <td>0.0</td>\n",
       "      <td>500+</td>\n",
       "      <td>500.0</td>\n",
       "      <td>986</td>\n",
       "      <td>True</td>\n",
       "      <td>0.0</td>\n",
       "      <td>...</td>\n",
       "      <td>Varbin Softwares</td>\n",
       "      <td>http://varbin.com</td>\n",
       "      <td>varbinsoftware@gmail.com</td>\n",
       "      <td>Dec 20, 2017</td>\n",
       "      <td>Dec 20, 2017</td>\n",
       "      <td>Everyone</td>\n",
       "      <td>http://varbin.com/live-concert-privacy-policy</td>\n",
       "      <td>False</td>\n",
       "      <td>False</td>\n",
       "      <td>False</td>\n",
       "    </tr>\n",
       "    <tr>\n",
       "      <th>1118135</th>\n",
       "      <td>Rajput India</td>\n",
       "      <td>com.varbin.rajputindia</td>\n",
       "      <td>Social</td>\n",
       "      <td>4.6</td>\n",
       "      <td>81.0</td>\n",
       "      <td>10,000+</td>\n",
       "      <td>10000.0</td>\n",
       "      <td>18892</td>\n",
       "      <td>True</td>\n",
       "      <td>0.0</td>\n",
       "      <td>...</td>\n",
       "      <td>Varbin Softwares</td>\n",
       "      <td>http://varbin.com</td>\n",
       "      <td>rajputindia2017@gmail.com</td>\n",
       "      <td>Jun 15, 2017</td>\n",
       "      <td>Sep 27, 2018</td>\n",
       "      <td>Teen</td>\n",
       "      <td>NaN</td>\n",
       "      <td>True</td>\n",
       "      <td>False</td>\n",
       "      <td>False</td>\n",
       "    </tr>\n",
       "  </tbody>\n",
       "</table>\n",
       "<p>10 rows × 23 columns</p>\n",
       "</div>"
      ],
      "text/plain": [
       "                              App Name                            App Id  \\\n",
       "1118126                          HANWA                     com.hanwa.app   \n",
       "1118127                      TGIF 2018                  com.tgif2018.app   \n",
       "1118128               Asset Management   com.fieldenable.assetmanagement   \n",
       "1118129  Campaign Blaster Yuge Edition  com.unifeyed.CampaignBlasterYuge   \n",
       "1118130                Safer Job Sites               com.unifeyed.safety   \n",
       "1118131                    FleetEnable               com.fleetenable.app   \n",
       "1118132                      AutoThink         com.fleetenable.autothink   \n",
       "1118133                    FieldEnable   com.fieldenable.app.fieldenable   \n",
       "1118134                   Live Concert            com.varbin.liveconcert   \n",
       "1118135                   Rajput India            com.varbin.rajputindia   \n",
       "\n",
       "             Category  Rating  Rating Count Installs  Minimum Installs  \\\n",
       "1118126     Lifestyle     0.0           0.0      10+              10.0   \n",
       "1118127     Education     0.0           0.0      50+              50.0   \n",
       "1118128      Business     NaN           NaN     100+             100.0   \n",
       "1118129        Casual     0.0           0.0      50+              50.0   \n",
       "1118130  Productivity     0.0           0.0       5+               5.0   \n",
       "1118131  Productivity     NaN           NaN      10+              10.0   \n",
       "1118132  Productivity     0.0           0.0     100+             100.0   \n",
       "1118133      Business     0.0           0.0     100+             100.0   \n",
       "1118134        Events     0.0           0.0     500+             500.0   \n",
       "1118135        Social     4.6          81.0  10,000+           10000.0   \n",
       "\n",
       "         Maximum Installs  Free  Price  ...      Developer Id  \\\n",
       "1118126                46  True    0.0  ...      Imaginnovate   \n",
       "1118127                65  True    0.0  ...      Imaginnovate   \n",
       "1118128               190  True    0.0  ...      Imaginnovate   \n",
       "1118129                60  True    0.0  ...          UNIFEYED   \n",
       "1118130                 5  True    0.0  ...          UNIFEYED   \n",
       "1118131                10  True    0.0  ...      Imaginnovate   \n",
       "1118132               127  True    0.0  ...      Imaginnovate   \n",
       "1118133               282  True    0.0  ...      Imaginnovate   \n",
       "1118134               986  True    0.0  ...  Varbin Softwares   \n",
       "1118135             18892  True    0.0  ...  Varbin Softwares   \n",
       "\n",
       "                      Developer Website               Developer Email  \\\n",
       "1118126  http://www.nwahindutemple.org/        BOD@NWAHINDUTEMPLE.ORG   \n",
       "1118127        http://tgif.elixsys.com/         info@imaginnovate.com   \n",
       "1118128     http://www.imaginnovate.com  FieldEnable@imaginnovate.com   \n",
       "1118129         http://www.unifeyed.com      development@unifeyed.com   \n",
       "1118130            https://unifeyed.com      development@unifeyed.com   \n",
       "1118131         http://fleetenable.com/      krishna@imaginnovate.com   \n",
       "1118132     http://www.imaginnovate.com      krishna@imaginnovate.com   \n",
       "1118133     http://www.imaginnovate.com  FieldEnable@imaginnovate.com   \n",
       "1118134               http://varbin.com      varbinsoftware@gmail.com   \n",
       "1118135               http://varbin.com     rajputindia2017@gmail.com   \n",
       "\n",
       "             Released  Last Updated Content Rating  \\\n",
       "1118126  Apr 13, 2019  Mar 04, 2020       Everyone   \n",
       "1118127   Dec 5, 2017  Feb 13, 2018       Everyone   \n",
       "1118128           NaN  Mar 09, 2020       Everyone   \n",
       "1118129   May 2, 2016  May 03, 2016       Everyone   \n",
       "1118130  Aug 21, 2019  Dec 05, 2019       Everyone   \n",
       "1118131           NaN  Jun 30, 2020       Everyone   \n",
       "1118132  Nov 26, 2019  Nov 13, 2020       Everyone   \n",
       "1118133  Apr 30, 2018  Nov 30, 2020       Everyone   \n",
       "1118134  Dec 20, 2017  Dec 20, 2017       Everyone   \n",
       "1118135  Jun 15, 2017  Sep 27, 2018           Teen   \n",
       "\n",
       "                                        Privacy Policy Ad Supported  \\\n",
       "1118126              http://tw.fieldenable.com/privacy        False   \n",
       "1118127        http://tgif.elixsys.com/_privacy_policy        False   \n",
       "1118128             http://app.fieldenable.com/privacy        False   \n",
       "1118129                   http://unifeyed.com/privacy/         True   \n",
       "1118130                   https://unifeyed.com/privacy        False   \n",
       "1118131                        http://fleetenable.com/        False   \n",
       "1118132                    http://www.imaginnovate.com        False   \n",
       "1118133              http://tw.fieldenable.com/privacy        False   \n",
       "1118134  http://varbin.com/live-concert-privacy-policy        False   \n",
       "1118135                                            NaN         True   \n",
       "\n",
       "        In App Purchases Editors Choice  \n",
       "1118126            False          False  \n",
       "1118127            False          False  \n",
       "1118128            False          False  \n",
       "1118129             True          False  \n",
       "1118130            False          False  \n",
       "1118131            False          False  \n",
       "1118132            False          False  \n",
       "1118133            False          False  \n",
       "1118134            False          False  \n",
       "1118135            False          False  \n",
       "\n",
       "[10 rows x 23 columns]"
      ]
     },
     "execution_count": 6,
     "metadata": {},
     "output_type": "execute_result"
    }
   ],
   "source": [
    "#Last 10 Data Entries\n",
    "gplst.tail(10)"
   ]
  },
  {
   "cell_type": "code",
   "execution_count": 7,
   "metadata": {},
   "outputs": [
    {
     "data": {
      "text/plain": [
       "Index(['App Name', 'App Id', 'Category', 'Rating', 'Rating Count', 'Installs',\n",
       "       'Minimum Installs', 'Maximum Installs', 'Free', 'Price', 'Currency',\n",
       "       'Size', 'Minimum Android', 'Developer Id', 'Developer Website',\n",
       "       'Developer Email', 'Released', 'Last Updated', 'Content Rating',\n",
       "       'Privacy Policy', 'Ad Supported', 'In App Purchases', 'Editors Choice'],\n",
       "      dtype='object')"
      ]
     },
     "execution_count": 7,
     "metadata": {},
     "output_type": "execute_result"
    }
   ],
   "source": [
    "#Columns in Dataset\n",
    "gplst.columns"
   ]
  },
  {
   "cell_type": "code",
   "execution_count": 8,
   "metadata": {},
   "outputs": [
    {
     "name": "stdout",
     "output_type": "stream",
     "text": [
      "<class 'pandas.core.frame.DataFrame'>\n",
      "RangeIndex: 1118136 entries, 0 to 1118135\n",
      "Data columns (total 23 columns):\n",
      " #   Column             Non-Null Count    Dtype  \n",
      "---  ------             --------------    -----  \n",
      " 0   App Name           1118135 non-null  object \n",
      " 1   App Id             1118136 non-null  object \n",
      " 2   Category           1118133 non-null  object \n",
      " 3   Rating             1111286 non-null  float64\n",
      " 4   Rating Count       1111286 non-null  float64\n",
      " 5   Installs           1117975 non-null  object \n",
      " 6   Minimum Installs   1117975 non-null  float64\n",
      " 7   Maximum Installs   1118136 non-null  int64  \n",
      " 8   Free               1118136 non-null  bool   \n",
      " 9   Price              1118136 non-null  float64\n",
      " 10  Currency           1117975 non-null  object \n",
      " 11  Size               1118136 non-null  object \n",
      " 12  Minimum Android    1116123 non-null  object \n",
      " 13  Developer Id       1118134 non-null  object \n",
      " 14  Developer Website  703770 non-null   object \n",
      " 15  Developer Email    1118114 non-null  object \n",
      " 16  Released           1110406 non-null  object \n",
      " 17  Last Updated       1118136 non-null  object \n",
      " 18  Content Rating     1118136 non-null  object \n",
      " 19  Privacy Policy     964612 non-null   object \n",
      " 20  Ad Supported       1118136 non-null  bool   \n",
      " 21  In App Purchases   1118136 non-null  bool   \n",
      " 22  Editors Choice     1118136 non-null  bool   \n",
      "dtypes: bool(4), float64(4), int64(1), object(14)\n",
      "memory usage: 166.3+ MB\n"
     ]
    }
   ],
   "source": [
    "#Concise Summary of Dataset\n",
    "gplst.info()"
   ]
  },
  {
   "cell_type": "code",
   "execution_count": 9,
   "metadata": {},
   "outputs": [
    {
     "data": {
      "text/plain": [
       "App Name             1046869\n",
       "App Id               1118136\n",
       "Category                  48\n",
       "Rating                    42\n",
       "Rating Count           34996\n",
       "Installs                  22\n",
       "Minimum Installs          22\n",
       "Maximum Installs      207348\n",
       "Free                       2\n",
       "Price                    705\n",
       "Currency                  54\n",
       "Size                    1482\n",
       "Minimum Android          139\n",
       "Developer Id          165593\n",
       "Developer Website     256899\n",
       "Developer Email       261786\n",
       "Released                3963\n",
       "Last Updated            3706\n",
       "Content Rating             6\n",
       "Privacy Policy        380030\n",
       "Ad Supported               2\n",
       "In App Purchases           2\n",
       "Editors Choice             2\n",
       "dtype: int64"
      ]
     },
     "execution_count": 9,
     "metadata": {},
     "output_type": "execute_result"
    }
   ],
   "source": [
    "#Unique Values\n",
    "gplst.nunique()"
   ]
  },
  {
   "cell_type": "code",
   "execution_count": 10,
   "metadata": {},
   "outputs": [
    {
     "data": {
      "text/plain": [
       "App Name                  1\n",
       "App Id                    0\n",
       "Category                  3\n",
       "Rating                 6850\n",
       "Rating Count           6850\n",
       "Installs                161\n",
       "Minimum Installs        161\n",
       "Maximum Installs          0\n",
       "Free                      0\n",
       "Price                     0\n",
       "Currency                161\n",
       "Size                      0\n",
       "Minimum Android        2013\n",
       "Developer Id              2\n",
       "Developer Website    414366\n",
       "Developer Email          22\n",
       "Released               7730\n",
       "Last Updated              0\n",
       "Content Rating            0\n",
       "Privacy Policy       153524\n",
       "Ad Supported              0\n",
       "In App Purchases          0\n",
       "Editors Choice            0\n",
       "dtype: int64"
      ]
     },
     "execution_count": 10,
     "metadata": {},
     "output_type": "execute_result"
    }
   ],
   "source": [
    "#Identifying Null Values\n",
    "gplst.isnull().sum()"
   ]
  },
  {
   "cell_type": "code",
   "execution_count": 11,
   "metadata": {},
   "outputs": [
    {
     "data": {
      "text/html": [
       "<div>\n",
       "<style scoped>\n",
       "    .dataframe tbody tr th:only-of-type {\n",
       "        vertical-align: middle;\n",
       "    }\n",
       "\n",
       "    .dataframe tbody tr th {\n",
       "        vertical-align: top;\n",
       "    }\n",
       "\n",
       "    .dataframe thead th {\n",
       "        text-align: right;\n",
       "    }\n",
       "</style>\n",
       "<table border=\"1\" class=\"dataframe\">\n",
       "  <thead>\n",
       "    <tr style=\"text-align: right;\">\n",
       "      <th></th>\n",
       "      <th>Rating</th>\n",
       "      <th>Rating Count</th>\n",
       "      <th>Minimum Installs</th>\n",
       "      <th>Maximum Installs</th>\n",
       "      <th>Price</th>\n",
       "    </tr>\n",
       "  </thead>\n",
       "  <tbody>\n",
       "    <tr>\n",
       "      <th>count</th>\n",
       "      <td>1.111286e+06</td>\n",
       "      <td>1.111286e+06</td>\n",
       "      <td>1.117975e+06</td>\n",
       "      <td>1.118136e+06</td>\n",
       "      <td>1.118136e+06</td>\n",
       "    </tr>\n",
       "    <tr>\n",
       "      <th>mean</th>\n",
       "      <td>2.490334e+00</td>\n",
       "      <td>5.159633e+03</td>\n",
       "      <td>3.136432e+05</td>\n",
       "      <td>5.444534e+05</td>\n",
       "      <td>2.050728e-01</td>\n",
       "    </tr>\n",
       "    <tr>\n",
       "      <th>std</th>\n",
       "      <td>2.053973e+00</td>\n",
       "      <td>2.724094e+05</td>\n",
       "      <td>2.043941e+07</td>\n",
       "      <td>3.031058e+07</td>\n",
       "      <td>3.541011e+00</td>\n",
       "    </tr>\n",
       "    <tr>\n",
       "      <th>min</th>\n",
       "      <td>0.000000e+00</td>\n",
       "      <td>0.000000e+00</td>\n",
       "      <td>0.000000e+00</td>\n",
       "      <td>0.000000e+00</td>\n",
       "      <td>0.000000e+00</td>\n",
       "    </tr>\n",
       "    <tr>\n",
       "      <th>25%</th>\n",
       "      <td>0.000000e+00</td>\n",
       "      <td>0.000000e+00</td>\n",
       "      <td>1.000000e+02</td>\n",
       "      <td>1.600000e+02</td>\n",
       "      <td>0.000000e+00</td>\n",
       "    </tr>\n",
       "    <tr>\n",
       "      <th>50%</th>\n",
       "      <td>3.600000e+00</td>\n",
       "      <td>1.100000e+01</td>\n",
       "      <td>1.000000e+03</td>\n",
       "      <td>1.719000e+03</td>\n",
       "      <td>0.000000e+00</td>\n",
       "    </tr>\n",
       "    <tr>\n",
       "      <th>75%</th>\n",
       "      <td>4.300000e+00</td>\n",
       "      <td>1.000000e+02</td>\n",
       "      <td>1.000000e+04</td>\n",
       "      <td>1.911600e+04</td>\n",
       "      <td>0.000000e+00</td>\n",
       "    </tr>\n",
       "    <tr>\n",
       "      <th>max</th>\n",
       "      <td>5.000000e+00</td>\n",
       "      <td>1.253808e+08</td>\n",
       "      <td>1.000000e+10</td>\n",
       "      <td>1.077270e+10</td>\n",
       "      <td>4.000000e+02</td>\n",
       "    </tr>\n",
       "  </tbody>\n",
       "</table>\n",
       "</div>"
      ],
      "text/plain": [
       "             Rating  Rating Count  Minimum Installs  Maximum Installs  \\\n",
       "count  1.111286e+06  1.111286e+06      1.117975e+06      1.118136e+06   \n",
       "mean   2.490334e+00  5.159633e+03      3.136432e+05      5.444534e+05   \n",
       "std    2.053973e+00  2.724094e+05      2.043941e+07      3.031058e+07   \n",
       "min    0.000000e+00  0.000000e+00      0.000000e+00      0.000000e+00   \n",
       "25%    0.000000e+00  0.000000e+00      1.000000e+02      1.600000e+02   \n",
       "50%    3.600000e+00  1.100000e+01      1.000000e+03      1.719000e+03   \n",
       "75%    4.300000e+00  1.000000e+02      1.000000e+04      1.911600e+04   \n",
       "max    5.000000e+00  1.253808e+08      1.000000e+10      1.077270e+10   \n",
       "\n",
       "              Price  \n",
       "count  1.118136e+06  \n",
       "mean   2.050728e-01  \n",
       "std    3.541011e+00  \n",
       "min    0.000000e+00  \n",
       "25%    0.000000e+00  \n",
       "50%    0.000000e+00  \n",
       "75%    0.000000e+00  \n",
       "max    4.000000e+02  "
      ]
     },
     "execution_count": 11,
     "metadata": {},
     "output_type": "execute_result"
    }
   ],
   "source": [
    "#Basic Statistical Details\n",
    "gplst.describe()"
   ]
  },
  {
   "cell_type": "code",
   "execution_count": 12,
   "metadata": {},
   "outputs": [
    {
     "data": {
      "text/plain": [
       "Category\n",
       "Action                      12628\n",
       "Adventure                   10124\n",
       "Arcade                      17715\n",
       "Art & Design                12322\n",
       "Auto & Vehicles              6872\n",
       "Beauty                       6236\n",
       "Board                        5261\n",
       "Books & Reference           78969\n",
       "Business                    42210\n",
       "Card                         4674\n",
       "Casino                       2648\n",
       "Casual                      20509\n",
       "Comics                       2137\n",
       "Communication               18391\n",
       "Dating                       2883\n",
       "Education                  115242\n",
       "Educational                 11351\n",
       "Entertainment               82079\n",
       "Events                       3788\n",
       "Finance                     24846\n",
       "Food & Drink                24250\n",
       "Health & Fitness            31532\n",
       "House & Home                 5475\n",
       "Libraries & Demo             2382\n",
       "Lifestyle                   54586\n",
       "Maps & Navigation           10468\n",
       "Medical                     12554\n",
       "Music                        2515\n",
       "Music & Audio              104541\n",
       "News & Magazines            21553\n",
       "Parenting                    1784\n",
       "Personalization             73538\n",
       "Photography                 28942\n",
       "Productivity                30450\n",
       "Puzzle                      24954\n",
       "Racing                       6004\n",
       "Role Playing                 5632\n",
       "Shopping                    20440\n",
       "Simulation                  15372\n",
       "Social                      16987\n",
       "Sports                      22094\n",
       "Strategy                     4071\n",
       "Tools                       68953\n",
       "Travel & Local              25971\n",
       "Trivia                       5470\n",
       "Video Players & Editors      9095\n",
       "Weather                      2958\n",
       "Word                         4677\n",
       "dtype: int64"
      ]
     },
     "execution_count": 12,
     "metadata": {},
     "output_type": "execute_result"
    }
   ],
   "source": [
    "#Grouped Dataset by Category\n",
    "gpl = gplst.groupby(['Category']).size()\n",
    "gpl"
   ]
  },
  {
   "cell_type": "code",
   "execution_count": 13,
   "metadata": {
    "scrolled": true
   },
   "outputs": [
    {
     "data": {
      "image/png": "[encoded data removed]",
      "text/plain": [
       "<Figure size 432x288 with 1 Axes>"
      ]
     },
     "metadata": {
      "needs_background": "light"
     },
     "output_type": "display_data"
    }
   ],
   "source": [
    "#Visualization\n",
    "#Rating plot\n",
    "gplst.Rating.plot(kind='hist')\n",
    "plt.yscale('log')"
   ]
  },
  {
   "cell_type": "code",
   "execution_count": 14,
   "metadata": {},
   "outputs": [
    {
     "data": {
      "image/png": "[encoded data removed]",
      "text/plain": [
       "<Figure size 432x288 with 1 Axes>"
      ]
     },
     "metadata": {
      "needs_background": "light"
     },
     "output_type": "display_data"
    }
   ],
   "source": [
    "sns.countplot(data=gplst,x='Rating')\n",
    "plt.yscale('log')"
   ]
  },
  {
   "cell_type": "code",
   "execution_count": 15,
   "metadata": {},
   "outputs": [
    {
     "data": {
      "image/png": "[encoded data removed]",
      "text/plain": [
       "<Figure size 432x288 with 1 Axes>"
      ]
     },
     "metadata": {
      "needs_background": "light"
     },
     "output_type": "display_data"
    }
   ],
   "source": [
    "#Free App Plot\n",
    "sns.countplot(data=gplst, x='Free')\n",
    "plt.yscale('log')"
   ]
  },
  {
   "cell_type": "code",
   "execution_count": 16,
   "metadata": {},
   "outputs": [
    {
     "data": {
      "image/png": "[encoded data removed]",
      "text/plain": [
       "<Figure size 432x288 with 1 Axes>"
      ]
     },
     "metadata": {
      "needs_background": "light"
     },
     "output_type": "display_data"
    }
   ],
   "source": [
    "#Rating Plot\n",
    "crate = gplst['Content Rating']\n",
    "plt.hist(crate.dropna())\n",
    "plt.xlabel('Content Rating')\n",
    "plt.yscale('log')\n",
    "plt.show()"
   ]
  },
  {
   "cell_type": "code",
   "execution_count": 17,
   "metadata": {},
   "outputs": [
    {
     "data": {
      "image/png": "[encoded data removed]",
      "text/plain": [
       "<Figure size 432x288 with 1 Axes>"
      ]
     },
     "metadata": {
      "needs_background": "light"
     },
     "output_type": "display_data"
    }
   ],
   "source": [
    "#Ad Support Plot\n",
    "sns.countplot(data=gplst, x='Ad Supported')\n",
    "plt.yscale('log')"
   ]
  },
  {
   "cell_type": "code",
   "execution_count": 18,
   "metadata": {
    "scrolled": true
   },
   "outputs": [
    {
     "data": {
      "image/png": "[encoded data removed]",
      "text/plain": [
       "<Figure size 432x288 with 1 Axes>"
      ]
     },
     "metadata": {
      "needs_background": "light"
     },
     "output_type": "display_data"
    }
   ],
   "source": [
    "#Install Plot\n",
    "inst = gplst['Installs']\n",
    "plt.hist(inst.dropna())\n",
    "plt.xscale('log')\n",
    "plt.yscale('log')\n",
    "plt.xlabel('Install')\n",
    "plt.show()"
   ]
  },
  {
   "cell_type": "code",
   "execution_count": 19,
   "metadata": {},
   "outputs": [
    {
     "data": {
      "image/png": "[encoded data removed]",
      "text/plain": [
       "<Figure size 432x288 with 1 Axes>"
      ]
     },
     "metadata": {
      "needs_background": "light"
     },
     "output_type": "display_data"
    }
   ],
   "source": [
    "#outliers in Rating Count\n",
    "sns.boxplot(data=gplst,x='Rating Count')\n",
    "plt.xscale('log')"
   ]
  },
  {
   "cell_type": "code",
   "execution_count": 20,
   "metadata": {},
   "outputs": [
    {
     "data": {
      "image/png": "[encoded data removed]",
      "text/plain": [
       "<Figure size 432x288 with 1 Axes>"
      ]
     },
     "metadata": {
      "needs_background": "light"
     },
     "output_type": "display_data"
    }
   ],
   "source": [
    "#outliers in Minimum Installs\n",
    "sns.boxplot(data=gplst,x='Minimum Installs')\n",
    "plt.xscale('log')"
   ]
  },
  {
   "cell_type": "code",
   "execution_count": 21,
   "metadata": {},
   "outputs": [
    {
     "data": {
      "image/png": "[encoded data removed]",
      "text/plain": [
       "<Figure size 432x288 with 1 Axes>"
      ]
     },
     "metadata": {
      "needs_background": "light"
     },
     "output_type": "display_data"
    }
   ],
   "source": [
    "#outliers in Maximum Installs\n",
    "sns.boxplot(data=gplst,x='Maximum Installs')\n",
    "plt.xscale('log')"
   ]
  },
  {
   "cell_type": "code",
   "execution_count": 22,
   "metadata": {},
   "outputs": [
    {
     "data": {
      "text/plain": [
       "<AxesSubplot:xlabel='Price'>"
      ]
     },
     "execution_count": 22,
     "metadata": {},
     "output_type": "execute_result"
    },
    {
     "data": {
      "image/png": "[encoded data removed]",
      "text/plain": [
       "<Figure size 432x288 with 1 Axes>"
      ]
     },
     "metadata": {
      "needs_background": "light"
     },
     "output_type": "display_data"
    }
   ],
   "source": [
    "#outliers in Price\n",
    "sns.boxplot(data=gplst,x='Price')\n"
   ]
  }
 ],
 "metadata": {
  "kernelspec": {
   "display_name": "Python 3",
   "language": "python",
   "name": "python3"
  },
  "language_info": {
   "codemirror_mode": {
    "name": "ipython",
    "version": 3
   },
   "file_extension": ".py",
   "mimetype": "text/x-python",
   "name": "python",
   "nbconvert_exporter": "python",
   "pygments_lexer": "ipython3",
   "version": "3.8.5"
  }
 },
 "nbformat": 4,
 "nbformat_minor": 4
}
